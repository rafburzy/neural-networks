{
 "cells": [
  {
   "cell_type": "markdown",
   "metadata": {},
   "source": [
    "## Hand written digits (MNIST) regognition with a neural network\n",
    "Based on a book by Michael A. Nielsen, <a href=\"http://neuralnetworksanddeeplearning.com\">\"Neural Networks and Deep Learning\"</a>, Determination Press, 2015 \n",
    "\n",
    "#### Step 1: Definition of weights and biases\n"
   ]
  },
  {
   "cell_type": "code",
   "execution_count": 1,
   "metadata": {},
   "outputs": [],
   "source": [
    "import numpy as np"
   ]
  },
  {
   "cell_type": "code",
   "execution_count": 6,
   "metadata": {},
   "outputs": [],
   "source": [
    "class Network(object):\n",
    "    \n",
    "    def __init__(self, sizes):\n",
    "        self.num_layers = len(sizes)\n",
    "        self.sizes = sizes\n",
    "        # np.random.randn(num_rows, num_cols)\n",
    "        # for [2, 3, 1] we will have 3 biases between 2 input neurons and 3 neurons in the hidden layer\n",
    "        # and 1 bias between 3 neurons in the hidden layer and one output neuron\n",
    "        # bias is for the neuron in a given layer (excluding input layer)\n",
    "        self.biases = [np.random.randn(y, 1) for y in sizes[1:]]\n",
    "        # for weights and the same list [2, 3, 1] we will have:\n",
    "        # 3 rows and 2 columns for weigths between 2 input layer neurons (columns) and 3 neurons in the hidden layer\n",
    "        # 1 row and 3 columns for weights between 3 neurons in the hidden layer and 1 neuron in the output layer\n",
    "        self.weights = [np.random.randn(y, x) for x, y in zip(sizes[:-1], sizes[1:])]"
   ]
  },
  {
   "cell_type": "code",
   "execution_count": 3,
   "metadata": {},
   "outputs": [],
   "source": [
    "# definition of a network with 2 neurons in input layer, 3 neurons in hidden layer, 1 output neuron\n",
    "net = Network([2, 3, 1])"
   ]
  },
  {
   "cell_type": "markdown",
   "metadata": {},
   "source": [
    "Let's look at the weights of the simple network"
   ]
  },
  {
   "cell_type": "code",
   "execution_count": 5,
   "metadata": {},
   "outputs": [
    {
     "data": {
      "text/plain": [
       "[array([[-1.52184937, -0.08418495],\n",
       "        [ 0.24217734,  0.35257301],\n",
       "        [-1.15201793,  0.54673391]]),\n",
       " array([[-0.13556906, -0.55355421,  0.90174349]])]"
      ]
     },
     "execution_count": 5,
     "metadata": {},
     "output_type": "execute_result"
    }
   ],
   "source": [
    "net.weights"
   ]
  },
  {
   "cell_type": "markdown",
   "metadata": {},
   "source": [
    "First row represents weights from two input neurons to the first neuron in the hidden layer, second row weights from two input neurons to the second neuron in the hidden layer and finally the third row contains weights from two input neurons to the third neuron in the hidden layer.\n",
    "The second element of weights list represents the weights from 3 neurons in the hidden layer to the one neuron in the output layer.\n",
    "\n",
    "Since biases are linked to a neuron, we will have 3 biases for the 3 neurons in the hidden layer and 1 bias for the output layer neuron."
   ]
  },
  {
   "cell_type": "code",
   "execution_count": 4,
   "metadata": {},
   "outputs": [
    {
     "data": {
      "text/plain": [
       "[array([[-1.06025379],\n",
       "        [ 0.19343707],\n",
       "        [-0.69414988]]), array([[-0.52153698]])]"
      ]
     },
     "execution_count": 4,
     "metadata": {},
     "output_type": "execute_result"
    }
   ],
   "source": [
    "net.biases"
   ]
  },
  {
   "cell_type": "markdown",
   "metadata": {},
   "source": [
    "In this way one can write the following expression for the first neuron in the hidden layer:\n",
    "\n",
    "a * input1 + b * input2 + bias1\n",
    "where a, b are the weights\n",
    "\n",
    "For the rest of the neurons in the hidden layer it is analogical.\n",
    "\n",
    "For the neuron in the output layer:\n",
    "\n",
    "k * hidden1 + l * hidden2 + m * hidden3 + bias_to_output\n",
    "where k, l, m are weights."
   ]
  },
  {
   "cell_type": "code",
   "execution_count": null,
   "metadata": {},
   "outputs": [],
   "source": []
  }
 ],
 "metadata": {
  "kernelspec": {
   "display_name": "Python 3",
   "language": "python",
   "name": "python3"
  },
  "language_info": {
   "codemirror_mode": {
    "name": "ipython",
    "version": 3
   },
   "file_extension": ".py",
   "mimetype": "text/x-python",
   "name": "python",
   "nbconvert_exporter": "python",
   "pygments_lexer": "ipython3",
   "version": "3.6.4"
  }
 },
 "nbformat": 4,
 "nbformat_minor": 2
}
