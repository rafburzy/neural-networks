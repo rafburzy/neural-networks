{
 "cells": [
  {
   "cell_type": "markdown",
   "metadata": {},
   "source": [
    "## Hand written digits (MNIST) regognition with a neural network\n",
    "Based on a book by Michael A. Nielsen, <a href=\"http://neuralnetworksanddeeplearning.com\">\"Neural Networks and Deep Learning\"</a>, Determination Press, 2015 \n",
    "\n",
    "#### Step 2:\n"
   ]
  },
  {
   "cell_type": "code",
   "execution_count": 8,
   "metadata": {},
   "outputs": [],
   "source": [
    "import numpy as np"
   ]
  },
  {
   "cell_type": "code",
   "execution_count": 9,
   "metadata": {},
   "outputs": [],
   "source": [
    "# definition of sigmoid function\n",
    "def sigmoid(x):\n",
    "    return 1.0/(1.0 + np.exp(-x))"
   ]
  },
  {
   "cell_type": "code",
   "execution_count": 10,
   "metadata": {},
   "outputs": [],
   "source": [
    "class Network(object):\n",
    "    \n",
    "    def __init__(self, sizes):\n",
    "        self.num_layers = len(sizes)\n",
    "        self.sizes = sizes\n",
    "        # np.random.randn(num_rows, num_cols)\n",
    "        # for [2, 3, 1] we will have 3 biases between 2 input neurons and 3 neurons in the hidden layer\n",
    "        # and 1 bias between 3 neurons in the hidden layer and one output neuron\n",
    "        # bias is for the neuron in a given layer (excluding input layer)\n",
    "        self.biases = [np.random.randn(y, 1) for y in sizes[1:]]\n",
    "        # for weights and the same list [2, 3, 1] we will have:\n",
    "        # 3 rows and 2 columns for weigths between 2 input layer neurons (columns) and 3 neurons in the hidden layer\n",
    "        # 1 row and 3 columns for weights between 3 neurons in the hidden layer and 1 neuron in the output layer\n",
    "        self.weights = [np.random.randn(y, x) for x, y in zip(sizes[:-1], sizes[1:])]\n",
    "        \n",
    "    def feedforward(self, a):\n",
    "        '''return the output of the network for given input a'''\n",
    "        for b, w in zip(self.biases, self.weights):\n",
    "            out = sigmoid(np.dot(w, a) + b)\n",
    "        return out"
   ]
  },
  {
   "cell_type": "code",
   "execution_count": 11,
   "metadata": {},
   "outputs": [],
   "source": [
    "# definition of a network with 2 neurons in input layer, 3 neurons in hidden layer, 1 output neuron\n",
    "net = Network([2, 3, 1])"
   ]
  },
  {
   "cell_type": "markdown",
   "metadata": {},
   "source": [
    "Let's look at the feedforard function"
   ]
  },
  {
   "cell_type": "code",
   "execution_count": 22,
   "metadata": {},
   "outputs": [
    {
     "name": "stdout",
     "output_type": "stream",
     "text": [
      "[[0.8]\n",
      " [0.2]]\n",
      "(2, 1)\n"
     ]
    }
   ],
   "source": [
    "# input layer \n",
    "a = np.array([[0.8], [0.2]])\n",
    "print(a)\n",
    "print(a.shape)"
   ]
  },
  {
   "cell_type": "code",
   "execution_count": null,
   "metadata": {},
   "outputs": [],
   "source": []
  }
 ],
 "metadata": {
  "kernelspec": {
   "display_name": "Python 3",
   "language": "python",
   "name": "python3"
  },
  "language_info": {
   "codemirror_mode": {
    "name": "ipython",
    "version": 3
   },
   "file_extension": ".py",
   "mimetype": "text/x-python",
   "name": "python",
   "nbconvert_exporter": "python",
   "pygments_lexer": "ipython3",
   "version": "3.6.4"
  }
 },
 "nbformat": 4,
 "nbformat_minor": 2
}
